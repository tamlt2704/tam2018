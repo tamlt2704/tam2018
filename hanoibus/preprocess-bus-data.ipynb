{
 "cells": [
  {
   "cell_type": "code",
   "execution_count": 1,
   "metadata": {},
   "outputs": [],
   "source": [
    "import json\n",
    "import pandas as pd\n",
    "import os\n",
    "\n",
    "bus_data_files = [fn for fn in os.listdir('data') if fn.startswith('bus_') and fn.endswith('.json')]"
   ]
  },
  {
   "cell_type": "code",
   "execution_count": 2,
   "metadata": {},
   "outputs": [],
   "source": [
    "js = None\n",
    "\n",
    "service_df = pd.DataFrame()\n",
    "geo_df = pd.DataFrame()\n",
    "route_df = pd.DataFrame()\n",
    "station_df = pd.DataFrame()\n",
    "\n",
    "service_attrs = ['Code', 'Cost', 'CostInt', 'Enterprise', 'Frequency']\n",
    "\n",
    "for fn in bus_data_files:\n",
    "    with open('data/{}'.format(fn), 'r') as f:\n",
    "        list_service_attrs = []\n",
    "        for line in f:        \n",
    "            js = json.loads(line)\n",
    "            js = json.loads(js)['dt']\n",
    "\n",
    "            # service        \n",
    "            tmp = pd.DataFrame([[js[k] for k in service_attrs]])\n",
    "            service_df = pd.concat([service_df, tmp])\n",
    "\n",
    "            #Geo\n",
    "            Code = js['Code']        \n",
    "            for Direction, Direction_Code in enumerate(['Go', 'Re'], 1):\n",
    "\n",
    "                geos = js.get(Direction_Code, {}).get('Geo', None)\n",
    "\n",
    "                if not geos:\n",
    "                    continue\n",
    "\n",
    "                lats = [x['Lat'] for x in geos]\n",
    "                lons = [x['Lng'] for x in geos]\n",
    "\n",
    "                tmp = pd.DataFrame({'Lat': lats, 'Lng': lons})\n",
    "                tmp['Code'] = Code\n",
    "                tmp['Direction'] = Direction\n",
    "                tmp['GeoSequence'] = range(1, len(lats)+1)\n",
    "                geo_df = pd.concat([geo_df, tmp])\n",
    "\n",
    "                # Route\n",
    "                Code = js['Code']\n",
    "                Routes = js[Direction_Code]['Route'].split('-')\n",
    "                Stations = js[Direction_Code]['Station']\n",
    "\n",
    "                BusStopCodes = []\n",
    "                FleetOvers = []\n",
    "                Lats = []\n",
    "                Lons = []\n",
    "                Names = []\n",
    "                for s in Stations:\n",
    "                    BusStopCodes.append(s['Code'])\n",
    "                    FleetOvers.append(s['FleetOver'])\n",
    "                    Lats.append(s['Geo']['Lat'])\n",
    "                    Lons.append(s['Geo']['Lng'])\n",
    "                    Names.append(s['Name'])\n",
    "\n",
    "                tmp = pd.DataFrame({'BusStopCode': BusStopCodes, 'StopSequence': range(1, len(BusStopCodes) + 1)})\n",
    "                tmp['Code'] = Code\n",
    "                tmp['Direction'] = Direction\n",
    "                route_df = pd.concat([route_df, tmp])\n",
    "\n",
    "                # stations\n",
    "                tmp = pd.DataFrame({'BusStopCode': BusStopCodes, 'Lat': Lats, 'Lng': Lons, 'FleetOver': FleetOvers, 'Name': Names})\n",
    "                station_df = pd.concat([station_df, tmp])"
   ]
  },
  {
   "cell_type": "code",
   "execution_count": 3,
   "metadata": {},
   "outputs": [],
   "source": [
    "service_df.columns = service_attrs\n",
    "service_df.to_csv('BusService.csv',encoding='utf-8')"
   ]
  },
  {
   "cell_type": "code",
   "execution_count": 4,
   "metadata": {},
   "outputs": [],
   "source": [
    "geo_df.to_csv('BusGeo.csv')"
   ]
  },
  {
   "cell_type": "code",
   "execution_count": 5,
   "metadata": {},
   "outputs": [],
   "source": [
    "route_df.to_csv('BusRoute.csv')"
   ]
  },
  {
   "cell_type": "code",
   "execution_count": 6,
   "metadata": {},
   "outputs": [],
   "source": [
    "df2 = station_df.drop_duplicates(subset=['BusStopCode'], keep='first')\n",
    "df2.to_csv('BusStopCode.csv', encoding='utf-8')"
   ]
  }
 ],
 "metadata": {
  "kernelspec": {
   "display_name": "Python 2",
   "language": "python",
   "name": "python2"
  },
  "language_info": {
   "codemirror_mode": {
    "name": "ipython",
    "version": 2
   },
   "file_extension": ".py",
   "mimetype": "text/x-python",
   "name": "python",
   "nbconvert_exporter": "python",
   "pygments_lexer": "ipython2",
   "version": "2.7.14+"
  }
 },
 "nbformat": 4,
 "nbformat_minor": 2
}
